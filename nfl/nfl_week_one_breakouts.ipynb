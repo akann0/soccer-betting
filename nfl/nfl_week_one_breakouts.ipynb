{
 "cells": [
  {
   "cell_type": "markdown",
   "metadata": {},
   "source": [
    "**Background**\n",
    "\n",
    "In my opinion, fantasy football resembles the stock market in a lot of ways.  At the beginning of a season, users of fantasy football are asked to estimate the value of players based on a variety of factors, which may include previous years performance, player age, player schedule, and the change in the situation that surrounds them.  As the season goes on, player's values are further tested in the trade market, where users can swap their players for those on another team if they are deemed more valuable.\n",
    "\n",
    "It is of my belief, as someone who is experienced in playing the game of fantasy football, that a player's performance on week 1 shouldn't adjust their value too much; that is, most beginners will overreact to the first sign of real scoring, and you can beat the (trade) market by \"selling\" players with strong week ones and \"buying\" those who had a bad game, particularly when the underlying metrics remain sound.  I am steadfast in my belief that this is particularly true amongst \"waiver wire\" players - those who no one expected to do well, and then had a great game 1, are usually overrated by the market as players are panicked that they missed something in their research, and don't consider the high variability and the forthcoming devation to the mean.\n",
    "\n",
    "This opinion, however, is not shared by some of my leaguemates, so I decided to use data to prove my point either correct or incorrect.  "
   ]
  },
  {
   "cell_type": "code",
   "execution_count": null,
   "metadata": {},
   "outputs": [],
   "source": [
    "#data collection: look on Kaggle ig? Most added players after week 1, the last 10 years? Or use an espn \"must add\" list?\n",
    "\n",
    "\n",
    "#think about subsections for further analysis - age? injury benefit? position? ADP/rostered percent?\n",
    "#ofc, the most important cols are - deltaRostered, pointsWk1, pointsWk2On, PRankWk1, PRankOnwards"
   ]
  },
  {
   "cell_type": "markdown",
   "metadata": {},
   "source": []
  }
 ],
 "metadata": {
  "language_info": {
   "name": "python"
  }
 },
 "nbformat": 4,
 "nbformat_minor": 2
}
