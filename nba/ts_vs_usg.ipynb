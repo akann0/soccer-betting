{
 "cells": [
  {
   "cell_type": "markdown",
   "metadata": {},
   "source": [
    "The reason behind this data analysis is to confirm a hypothesis about NBA Player Data that would be traditionally hard to confirm otherwise.  My hypothesis is this: that when a player is on a high performing offense as compared to a low performing offense, his effeciency goes up while his usage goes down.  I wanted to compare the correlation between the two.  However, what makes this hard is that if we compared the two variables straight up, we'd find them to be positively correlated, as traditionally, better basketball players shoot at a larger volume and score more effeciently.  I wanted to see if I could manipulate the data properly to show the proposed negative correlation between the two.  "
   ]
  },
  {
   "cell_type": "code",
   "execution_count": null,
   "metadata": {
    "vscode": {
     "languageId": "plaintext"
    }
   },
   "outputs": [],
   "source": []
  }
 ],
 "metadata": {
  "language_info": {
   "name": "python"
  }
 },
 "nbformat": 4,
 "nbformat_minor": 2
}
