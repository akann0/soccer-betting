{
 "cells": [
  {
   "cell_type": "markdown",
   "metadata": {},
   "source": [
    "Hello, my name is Aaron Kann.  In this data analysis, I seek to determine the point in the season in which a player's year to date averages become a better predictor of future outputs than a players previous year averages.\n",
    "\n",
    "I expect that, in the first couple of weeks into a Premier League Season, a player's previous averages are a stronger predictive metric because a player's to date averages are suggested to a much greater degree of variance.  However, I hypothesize that around matchweek 6, a player's to date averages become a stronger metric because the recency advantage outweighs the larger variance.  \n",
    "\n",
    "In addition, I expect that for metrics with a lower total count (goals, assists, yellow cards, etc.), last years output may be a more relevant factor for longer than metrics with a greater total count (total passes, shots attempted, clearances etc), because the high variance is magnified in these cases. \n",
    "\n",
    "Let's see if the data supports my hypotheses!"
   ]
  },
  {
   "cell_type": "code",
   "execution_count": null,
   "metadata": {},
   "outputs": [],
   "source": [
    "import csv\n",
    "import pandas as pd\n",
    "import numpy as np\n",
    "import matplotlib.pyplot as plt\n",
    "\n",
    "# Read the data from the csv file\n",
    "data = pd.read_csv('output.csv')"
   ]
  }
 ],
 "metadata": {
  "language_info": {
   "name": "python"
  }
 },
 "nbformat": 4,
 "nbformat_minor": 2
}
